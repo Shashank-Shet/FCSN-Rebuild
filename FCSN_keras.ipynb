{
 "cells": [
  {
   "cell_type": "code",
   "execution_count": 1,
   "metadata": {},
   "outputs": [],
   "source": [
    "import tensorflow.keras.backend as K\n",
    "from tensorflow.keras.layers import Conv1D, BatchNormalization, MaxPool1D, Dropout, ReLU, Conv2DTranspose, Input, Add\n",
    "from tensorflow.keras import Model"
   ]
  },
  {
   "cell_type": "code",
   "execution_count": 2,
   "metadata": {},
   "outputs": [],
   "source": [
    "class Conv1DTranspose(Conv2DTranspose):\n",
    "    def __init__(self, filters, kernel_size, stride, **kwargs):\n",
    "        self.output_channels = filters\n",
    "        super(Conv1DTranspose, self).__init__(\n",
    "            filters=filters,\n",
    "            kernel_size=(kernel_size, 1),\n",
    "            strides=(stride, 1),\n",
    "            **kwargs\n",
    "        )\n",
    "\n",
    "    def build(self, input_shape):\n",
    "        super(Conv1DTranspose, self).build((input_shape[0], input_shape[1], 1, input_shape[2]))\n",
    "\n",
    "    def __call__(self, x):\n",
    "        data = K.expand_dims(x, axis=2)\n",
    "        data = super(Conv1DTranspose, self).__call__(data)\n",
    "        data = K.squeeze(data, axis=2)\n",
    "        return data\n",
    "        \n",
    "    def call(self, x):\n",
    "        x = super(Conv1DTranspose, self).call(x)\n",
    "        return x\n"
   ]
  },
  {
   "cell_type": "markdown",
   "metadata": {},
   "source": [
    "# FCSN Model"
   ]
  },
  {
   "cell_type": "code",
   "execution_count": 3,
   "metadata": {},
   "outputs": [],
   "source": [
    "input_size = (320, 1024)   # Tensorflow uses the Channels-last format by default\n",
    "n_classes  = 10\n",
    "\n",
    "inputs = Input(input_size)\n",
    "\n",
    "# Block 1\n",
    "x = Conv1D(filters=1024, kernel_size=3, padding=\"SAME\")(inputs)\n",
    "x = BatchNormalization()(x)\n",
    "x = ReLU()(x)\n",
    "x = Conv1D(filters=1024, kernel_size=3, padding=\"SAME\")(x)\n",
    "x = BatchNormalization()(x)\n",
    "x = ReLU()(x)\n",
    "x = MaxPool1D(pool_size=2, strides=2, padding=\"SAME\")(x)\n"
   ]
  },
  {
   "cell_type": "code",
   "execution_count": 4,
   "metadata": {},
   "outputs": [],
   "source": [
    "# Block 2\n",
    "x = Conv1D(filters=1024, kernel_size=3, padding=\"SAME\")(x)\n",
    "x = BatchNormalization()(x)\n",
    "x = ReLU()(x)\n",
    "x = Conv1D(filters=1024, kernel_size=3, padding=\"SAME\")(x)\n",
    "x = BatchNormalization()(x)\n",
    "x = ReLU()(x)\n",
    "x = MaxPool1D(pool_size=2, strides=2, padding=\"SAME\")(x)\n"
   ]
  },
  {
   "cell_type": "code",
   "execution_count": 5,
   "metadata": {},
   "outputs": [],
   "source": [
    "# Block 3\n",
    "x = Conv1D(filters=1024, kernel_size=3, padding=\"SAME\")(x)\n",
    "x = BatchNormalization()(x)\n",
    "x = ReLU()(x)\n",
    "x = Conv1D(filters=1024, kernel_size=3, padding=\"SAME\")(x)\n",
    "x = BatchNormalization()(x)\n",
    "x = ReLU()(x)\n",
    "x = Conv1D(filters=1024, kernel_size=3, padding=\"SAME\")(x)\n",
    "x = BatchNormalization()(x)\n",
    "x = ReLU()(x)\n",
    "x = MaxPool1D(pool_size=2, strides=2, padding=\"SAME\")(x)\n"
   ]
  },
  {
   "cell_type": "code",
   "execution_count": null,
   "metadata": {},
   "outputs": [],
   "source": [
    "# Block 4\n",
    "x = Conv1D(filters=2048, kernel_size=3, padding=\"SAME\")(x)\n",
    "x = BatchNormalization()(x)\n",
    "x = ReLU()(x)\n",
    "x = Conv1D(filters=2048, kernel_size=3, padding=\"SAME\")(x)\n",
    "x = BatchNormalization()(x)\n",
    "x = ReLU()(x)\n",
    "x = Conv1D(filters=2048, kernel_size=3, padding=\"SAME\")(x)\n",
    "x = BatchNormalization()(x)\n",
    "x = ReLU()(x)\n",
    "x = MaxPool1D(pool_size=2, strides=2, padding=\"SAME\")(x)\n",
    "\n",
    "pool4 = x\n"
   ]
  },
  {
   "cell_type": "code",
   "execution_count": null,
   "metadata": {},
   "outputs": [],
   "source": [
    "# Block 5\n",
    "x = Conv1D(filters=2048, kernel_size=3, padding=\"SAME\")(x)\n",
    "x = BatchNormalization()(x)\n",
    "x = ReLU()(x)\n",
    "x = Conv1D(filters=2048, kernel_size=3, padding=\"SAME\")(x)\n",
    "x = BatchNormalization()(x)\n",
    "x = ReLU()(x)\n",
    "x = Conv1D(filters=2048, kernel_size=3, padding=\"SAME\")(x)\n",
    "x = BatchNormalization()(x)\n",
    "x = ReLU()(x)\n",
    "x = MaxPool1D(pool_size=2, strides=2, padding=\"SAME\")(x)\n"
   ]
  },
  {
   "cell_type": "code",
   "execution_count": null,
   "metadata": {},
   "outputs": [],
   "source": [
    "# Block 6\n",
    "x = Conv1D(filters=4096, kernel_size=1, padding=\"SAME\")(x)\n",
    "x = BatchNormalization()(x)\n",
    "x = ReLU()(x)\n",
    "x = Dropout(0.5)(x)\n",
    "\n",
    "# Block 7\n",
    "x = Conv1D(filters=4096, kernel_size=1, padding=\"SAME\")(x)\n",
    "x = BatchNormalization()(x)\n",
    "x = ReLU()(x)\n",
    "x = Dropout(0.5)(x)\n",
    "\n",
    "# Block 8\n",
    "x = Conv1D(filters=n_classes, kernel_size=1, padding=\"SAME\")(x)\n",
    "x = BatchNormalization()(x)\n",
    "x = ReLU()(x)\n",
    "\n",
    "x = Conv1DTranspose(filters=n_classes, kernel_size=4, padding=\"SAME\", stride=2, use_bias=False)(x)\n",
    "\n",
    "upscore = x"
   ]
  },
  {
   "cell_type": "code",
   "execution_count": null,
   "metadata": {},
   "outputs": [],
   "source": [
    "score_pool = Conv1D(filters=n_classes, kernel_size=1, padding=\"SAME\")(pool4)\n",
    "score_pool = BatchNormalization()(score_pool)\n",
    "\n",
    "x = Add()([upscore, score_pool])\n",
    "outputs = Conv1DTranspose(filters=n_classes, kernel_size=16, padding=\"SAME\", stride=16, use_bias=False)(x)\n",
    "\n",
    "model = Model(inputs=inputs, outputs=outputs, name=\"FCSN\")"
   ]
  },
  {
   "cell_type": "code",
   "execution_count": 28,
   "metadata": {},
   "outputs": [
    {
     "name": "stdout",
     "output_type": "stream",
     "text": [
      "Tensor(\"Squeeze_7:0\", shape=(None, 320, 10), dtype=float32)\n"
     ]
    }
   ],
   "source": [
    "print(x)"
   ]
  }
 ],
 "metadata": {
  "kernelspec": {
   "display_name": "Python 3",
   "language": "python",
   "name": "python3"
  },
  "language_info": {
   "codemirror_mode": {
    "name": "ipython",
    "version": 3
   },
   "file_extension": ".py",
   "mimetype": "text/x-python",
   "name": "python",
   "nbconvert_exporter": "python",
   "pygments_lexer": "ipython3",
   "version": "3.7.5"
  }
 },
 "nbformat": 4,
 "nbformat_minor": 4
}
